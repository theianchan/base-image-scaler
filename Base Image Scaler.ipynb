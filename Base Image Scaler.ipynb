{
 "cells": [
  {
   "cell_type": "markdown",
   "metadata": {},
   "source": [
    "### SDRs put a lot of work into outbound messaging to capture the attention of prospects. <br> What if they could... Not do that work?"
   ]
  },
  {
   "cell_type": "markdown",
   "metadata": {},
   "source": [
    "A recent [Dogpatch Advisors](https://www.dogpatchadvisors.com/) [blog post](https://blog.dogpatchadvisors.com/how-to-automate-the-best-sales-prospecting-email-ever-aa6a8c9f532d) explained how their team had deconstructed the \"best sales prospecting email ever\" - taking a diagram some SDR at Engagio had painstakingly constructed and automating it to work on thousands of prospects across hundreds of companies.\n",
    "\n",
    "Dogpatch, of course, productized their work and now offers a demo of Custom Images which you can find [here](https://www.dogpatchadvisors.com/product#custom-images).\n",
    "\n",
    "That does seem like a good idea, but we're cheap. So let's do it ourselves."
   ]
  },
  {
   "cell_type": "markdown",
   "metadata": {},
   "source": [
    "### Step one: create an image that makes a compelling opening offer"
   ]
  },
  {
   "cell_type": "markdown",
   "metadata": {},
   "source": [
    "We're not trying to close the sale with a single touch (though that would be pretty sweet). The goal here is to come up with a hook that would interest our prospect enough to agree to a conversation with our SDR.\n",
    "\n",
    "Let's start with a relatively simple template (my sales team is insisting that this be mobile-optimized, hence the skyscraper layout):\n",
    "\n",
    "<img src=\"image-scaler-demo-placeholder.png\" style=\"max-width: 188px; margin: 0;\"/>\n",
    "\n",
    "Notice the {{company.name}} placeholder. This won't be included in our actual template. Instead we're going to leave it blank so our script can plug in the company's name:\n",
    "\n",
    "<img src=\"image-scaler-demo-head.png\" style=\"max-width: 188px; margin: 0;\"/>"
   ]
  },
  {
   "cell_type": "markdown",
   "metadata": {},
   "source": [
    "### Step two: list the companies we want to prospect into"
   ]
  },
  {
   "cell_type": "markdown",
   "metadata": {},
   "source": [
    "We'll usually want to get this information off a CSV with the pandas `read_csv` function but let's just use a couple of SaaS companies as an example. I'm also going to throw in a domain that I know Clearbit won't return anything for, just so we know that we're handling errors correctly."
   ]
  },
  {
   "cell_type": "code",
   "execution_count": 1,
   "metadata": {
    "collapsed": true
   },
   "outputs": [],
   "source": [
    "import pandas as pd"
   ]
  },
  {
   "cell_type": "code",
   "execution_count": 2,
   "metadata": {},
   "outputs": [
    {
     "data": {
      "text/html": [
       "<div>\n",
       "<style>\n",
       "    .dataframe thead tr:only-child th {\n",
       "        text-align: right;\n",
       "    }\n",
       "\n",
       "    .dataframe thead th {\n",
       "        text-align: left;\n",
       "    }\n",
       "\n",
       "    .dataframe tbody tr th {\n",
       "        vertical-align: top;\n",
       "    }\n",
       "</style>\n",
       "<table border=\"1\" class=\"dataframe\">\n",
       "  <thead>\n",
       "    <tr style=\"text-align: right;\">\n",
       "      <th></th>\n",
       "      <th>domain</th>\n",
       "    </tr>\n",
       "  </thead>\n",
       "  <tbody>\n",
       "    <tr>\n",
       "      <th>0</th>\n",
       "      <td>hubspot.com</td>\n",
       "    </tr>\n",
       "    <tr>\n",
       "      <th>1</th>\n",
       "      <td>segment.com</td>\n",
       "    </tr>\n",
       "    <tr>\n",
       "      <th>2</th>\n",
       "      <td>zendesk.com</td>\n",
       "    </tr>\n",
       "    <tr>\n",
       "      <th>3</th>\n",
       "      <td>crmcorgi.com</td>\n",
       "    </tr>\n",
       "  </tbody>\n",
       "</table>\n",
       "</div>"
      ],
      "text/plain": [
       "         domain\n",
       "0   hubspot.com\n",
       "1   segment.com\n",
       "2   zendesk.com\n",
       "3  crmcorgi.com"
      ]
     },
     "execution_count": 2,
     "metadata": {},
     "output_type": "execute_result"
    }
   ],
   "source": [
    "domains = pd.DataFrame({\n",
    "    \"domain\" : [\"hubspot.com\", \"segment.com\", \"zendesk.com\", \"crmcorgi.com\"]\n",
    "})\n",
    "\n",
    "domains"
   ]
  },
  {
   "cell_type": "markdown",
   "metadata": {},
   "source": [
    "### Step three: set up directories to keep our images sorted"
   ]
  },
  {
   "cell_type": "markdown",
   "metadata": {},
   "source": [
    "Come up with a name for our campaign:"
   ]
  },
  {
   "cell_type": "code",
   "execution_count": 3,
   "metadata": {
    "collapsed": true
   },
   "outputs": [],
   "source": [
    "CAMPAIGN = \"image-scaler-demo\""
   ]
  },
  {
   "cell_type": "code",
   "execution_count": 4,
   "metadata": {
    "collapsed": true
   },
   "outputs": [],
   "source": [
    "import os"
   ]
  },
  {
   "cell_type": "code",
   "execution_count": 5,
   "metadata": {
    "collapsed": true
   },
   "outputs": [],
   "source": [
    "wk_dir = os.getcwd()"
   ]
  },
  {
   "cell_type": "code",
   "execution_count": 6,
   "metadata": {},
   "outputs": [
    {
     "name": "stdout",
     "output_type": "stream",
     "text": [
      "/Users/ianchan/Code/base-image-scaler\n",
      "/Users/ianchan/Code/base-image-scaler/campaign-image-scaler-demo\n",
      "/Users/ianchan/Code/base-image-scaler\n"
     ]
    }
   ],
   "source": [
    "%cd $wk_dir \n",
    "%rm -rf campaign-$CAMPAIGN\n",
    "%mkdir -p campaign-$CAMPAIGN\n",
    "%cd campaign-$CAMPAIGN\n",
    "%mkdir previews logos images\n",
    "%cd $wk_dir "
   ]
  },
  {
   "cell_type": "code",
   "execution_count": 7,
   "metadata": {},
   "outputs": [],
   "source": [
    "cm_dir = wk_dir + \"/campaign-\" + CAMPAIGN\n",
    "pr_dir = cm_dir + \"/previews/\"\n",
    "lg_dir = cm_dir + \"/logos/\"\n",
    "im_dir = cm_dir + \"/images/\""
   ]
  },
  {
   "cell_type": "markdown",
   "metadata": {},
   "source": [
    "### Step four: get information about the companies on our list"
   ]
  },
  {
   "cell_type": "markdown",
   "metadata": {},
   "source": [
    "We're going to use Clearbit's [enrichment API](https://clearbit.com/docs#enrichment-api) (you'll need your own Clearbit API Key to run this code):"
   ]
  },
  {
   "cell_type": "code",
   "execution_count": 8,
   "metadata": {},
   "outputs": [],
   "source": [
    "import clearbit\n",
    "clearbit.key = \"$YOUR_CLEARBIT_KEY\""
   ]
  },
  {
   "cell_type": "markdown",
   "metadata": {},
   "source": [
    "The API works by taking a company domain and returning an object containing bits of useful information about that company:"
   ]
  },
  {
   "cell_type": "code",
   "execution_count": 9,
   "metadata": {},
   "outputs": [
    {
     "name": "stdout",
     "output_type": "stream",
     "text": [
      "Name: HubSpot\n",
      "Industry: Internet Software & Services\n",
      "Employees: 2750\n",
      "Location: 25 First St, Cambridge, MA 02141, USA\n",
      "Description: HubSpot is an inbound marketing and sales platform that helps companies attract visitors, convert leads, and close customers.\n"
     ]
    }
   ],
   "source": [
    "company = clearbit.Company.find(domain=\"hubspot.com\")\n",
    "print(\"Name: {}\\nIndustry: {}\\nEmployees: {}\\nLocation: {}\\nDescription: {}\".format(\n",
    "    company[\"name\"],\n",
    "    company[\"category\"][\"industry\"],\n",
    "    company[\"metrics\"][\"employees\"],\n",
    "    company[\"location\"],\n",
    "    company[\"description\"]\n",
    "))"
   ]
  },
  {
   "cell_type": "markdown",
   "metadata": {},
   "source": [
    "All we're *really* going to be using today are the company's name and logo, but let's give ourselves a way to flatten that nested dictionary-like object into a Pandas dataframe so we can put that away for later."
   ]
  },
  {
   "cell_type": "code",
   "execution_count": 10,
   "metadata": {
    "collapsed": true
   },
   "outputs": [],
   "source": [
    "import collections"
   ]
  },
  {
   "cell_type": "code",
   "execution_count": 11,
   "metadata": {
    "collapsed": true
   },
   "outputs": [],
   "source": [
    "def flatten(dictionary, parent_key=\"\", sep=\"_\"):\n",
    "    items = []\n",
    "    for key, value in dictionary.items():\n",
    "        new_key = parent_key + sep + key if parent_key else key\n",
    "        if isinstance(value, collections.MutableMapping):\n",
    "            items.extend(flatten(value, new_key, sep=sep).items())\n",
    "        else:\n",
    "            value = \", \".join(value) if type(value) is list else value\n",
    "            items.append((new_key, value))\n",
    "    return dict(items)"
   ]
  },
  {
   "cell_type": "code",
   "execution_count": 12,
   "metadata": {},
   "outputs": [
    {
     "data": {
      "text/plain": [
       "(1, 65)"
      ]
     },
     "execution_count": 12,
     "metadata": {},
     "output_type": "execute_result"
    }
   ],
   "source": [
    "df_company = pd.DataFrame(flatten(company), index=[company[\"domain\"]])\n",
    "df_company.shape"
   ]
  },
  {
   "cell_type": "markdown",
   "metadata": {},
   "source": [
    "We can see from checking `shape` that we have quite a few columns in our dataframe, so let's make sure we can view all of them if we want to."
   ]
  },
  {
   "cell_type": "code",
   "execution_count": 13,
   "metadata": {
    "collapsed": true
   },
   "outputs": [],
   "source": [
    "from IPython.display import display"
   ]
  },
  {
   "cell_type": "code",
   "execution_count": 14,
   "metadata": {
    "collapsed": true
   },
   "outputs": [],
   "source": [
    "def display_all(df):\n",
    "    with pd.option_context(\"display.max_rows\", 1000): \n",
    "        with pd.option_context(\"display.max_columns\", 1000): \n",
    "            display(df)"
   ]
  },
  {
   "cell_type": "code",
   "execution_count": 15,
   "metadata": {
    "scrolled": false
   },
   "outputs": [
    {
     "data": {
      "text/html": [
       "<div>\n",
       "<style>\n",
       "    .dataframe thead tr:only-child th {\n",
       "        text-align: right;\n",
       "    }\n",
       "\n",
       "    .dataframe thead th {\n",
       "        text-align: left;\n",
       "    }\n",
       "\n",
       "    .dataframe tbody tr th {\n",
       "        vertical-align: top;\n",
       "    }\n",
       "</style>\n",
       "<table border=\"1\" class=\"dataframe\">\n",
       "  <thead>\n",
       "    <tr style=\"text-align: right;\">\n",
       "      <th></th>\n",
       "      <th>hubspot.com</th>\n",
       "    </tr>\n",
       "  </thead>\n",
       "  <tbody>\n",
       "    <tr>\n",
       "      <th>category_industry</th>\n",
       "      <td>Internet Software &amp; Services</td>\n",
       "    </tr>\n",
       "    <tr>\n",
       "      <th>category_industryGroup</th>\n",
       "      <td>Software &amp; Services</td>\n",
       "    </tr>\n",
       "    <tr>\n",
       "      <th>category_naicsCode</th>\n",
       "      <td>56</td>\n",
       "    </tr>\n",
       "    <tr>\n",
       "      <th>category_sector</th>\n",
       "      <td>Information Technology</td>\n",
       "    </tr>\n",
       "    <tr>\n",
       "      <th>category_sicCode</th>\n",
       "      <td>73</td>\n",
       "    </tr>\n",
       "    <tr>\n",
       "      <th>category_subIndustry</th>\n",
       "      <td>Internet Software &amp; Services</td>\n",
       "    </tr>\n",
       "    <tr>\n",
       "      <th>crunchbase_handle</th>\n",
       "      <td>organization/hubspot</td>\n",
       "    </tr>\n",
       "    <tr>\n",
       "      <th>description</th>\n",
       "      <td>HubSpot is an inbound marketing and sales plat...</td>\n",
       "    </tr>\n",
       "    <tr>\n",
       "      <th>domain</th>\n",
       "      <td>hubspot.com</td>\n",
       "    </tr>\n",
       "    <tr>\n",
       "      <th>domainAliases</th>\n",
       "      <td>hubspot.net, hubspot.co, hubspot.co.uk, hubspo...</td>\n",
       "    </tr>\n",
       "    <tr>\n",
       "      <th>emailProvider</th>\n",
       "      <td>False</td>\n",
       "    </tr>\n",
       "    <tr>\n",
       "      <th>facebook_handle</th>\n",
       "      <td>hubspot</td>\n",
       "    </tr>\n",
       "    <tr>\n",
       "      <th>facebook_likes</th>\n",
       "      <td>1486705</td>\n",
       "    </tr>\n",
       "    <tr>\n",
       "      <th>foundedYear</th>\n",
       "      <td>2006</td>\n",
       "    </tr>\n",
       "    <tr>\n",
       "      <th>geo_city</th>\n",
       "      <td>Cambridge</td>\n",
       "    </tr>\n",
       "    <tr>\n",
       "      <th>geo_country</th>\n",
       "      <td>United States</td>\n",
       "    </tr>\n",
       "    <tr>\n",
       "      <th>geo_countryCode</th>\n",
       "      <td>US</td>\n",
       "    </tr>\n",
       "    <tr>\n",
       "      <th>geo_lat</th>\n",
       "      <td>42.3698</td>\n",
       "    </tr>\n",
       "    <tr>\n",
       "      <th>geo_lng</th>\n",
       "      <td>-71.0774</td>\n",
       "    </tr>\n",
       "    <tr>\n",
       "      <th>geo_postalCode</th>\n",
       "      <td>02141</td>\n",
       "    </tr>\n",
       "    <tr>\n",
       "      <th>geo_state</th>\n",
       "      <td>Massachusetts</td>\n",
       "    </tr>\n",
       "    <tr>\n",
       "      <th>geo_stateCode</th>\n",
       "      <td>MA</td>\n",
       "    </tr>\n",
       "    <tr>\n",
       "      <th>geo_streetName</th>\n",
       "      <td>First Street</td>\n",
       "    </tr>\n",
       "    <tr>\n",
       "      <th>geo_streetNumber</th>\n",
       "      <td>25</td>\n",
       "    </tr>\n",
       "    <tr>\n",
       "      <th>geo_subPremise</th>\n",
       "      <td>None</td>\n",
       "    </tr>\n",
       "    <tr>\n",
       "      <th>id</th>\n",
       "      <td>54eddb27-988d-42a4-8688-59386edfc5bf</td>\n",
       "    </tr>\n",
       "    <tr>\n",
       "      <th>indexedAt</th>\n",
       "      <td>2018-02-22T04:26:33.087Z</td>\n",
       "    </tr>\n",
       "    <tr>\n",
       "      <th>legalName</th>\n",
       "      <td>HubSpot, Inc.</td>\n",
       "    </tr>\n",
       "    <tr>\n",
       "      <th>linkedin_handle</th>\n",
       "      <td>None</td>\n",
       "    </tr>\n",
       "    <tr>\n",
       "      <th>location</th>\n",
       "      <td>25 First St, Cambridge, MA 02141, USA</td>\n",
       "    </tr>\n",
       "    <tr>\n",
       "      <th>logo</th>\n",
       "      <td>https://logo.clearbit.com/hubspot.com</td>\n",
       "    </tr>\n",
       "    <tr>\n",
       "      <th>metrics_alexaGlobalRank</th>\n",
       "      <td>562</td>\n",
       "    </tr>\n",
       "    <tr>\n",
       "      <th>metrics_alexaUsRank</th>\n",
       "      <td>248</td>\n",
       "    </tr>\n",
       "    <tr>\n",
       "      <th>metrics_annualRevenue</th>\n",
       "      <td>270967000</td>\n",
       "    </tr>\n",
       "    <tr>\n",
       "      <th>metrics_employees</th>\n",
       "      <td>2750</td>\n",
       "    </tr>\n",
       "    <tr>\n",
       "      <th>metrics_employeesRange</th>\n",
       "      <td>1000+</td>\n",
       "    </tr>\n",
       "    <tr>\n",
       "      <th>metrics_estimatedAnnualRevenue</th>\n",
       "      <td>$250M-$500M</td>\n",
       "    </tr>\n",
       "    <tr>\n",
       "      <th>metrics_fiscalYearEnd</th>\n",
       "      <td>None</td>\n",
       "    </tr>\n",
       "    <tr>\n",
       "      <th>metrics_googleRank</th>\n",
       "      <td>None</td>\n",
       "    </tr>\n",
       "    <tr>\n",
       "      <th>metrics_marketCap</th>\n",
       "      <td>3770789000</td>\n",
       "    </tr>\n",
       "    <tr>\n",
       "      <th>metrics_raised</th>\n",
       "      <td>None</td>\n",
       "    </tr>\n",
       "    <tr>\n",
       "      <th>name</th>\n",
       "      <td>HubSpot</td>\n",
       "    </tr>\n",
       "    <tr>\n",
       "      <th>parent_domain</th>\n",
       "      <td>None</td>\n",
       "    </tr>\n",
       "    <tr>\n",
       "      <th>phone</th>\n",
       "      <td>+1 857-829-5884</td>\n",
       "    </tr>\n",
       "    <tr>\n",
       "      <th>similarDomains</th>\n",
       "      <td>exacttarget.com, hootsuite.com, infusionsoft.c...</td>\n",
       "    </tr>\n",
       "    <tr>\n",
       "      <th>site_emailAddresses</th>\n",
       "      <td>privacy@hubspot.com</td>\n",
       "    </tr>\n",
       "    <tr>\n",
       "      <th>site_h1</th>\n",
       "      <td>All Systems Grow</td>\n",
       "    </tr>\n",
       "    <tr>\n",
       "      <th>site_metaAuthor</th>\n",
       "      <td>HubSpot</td>\n",
       "    </tr>\n",
       "    <tr>\n",
       "      <th>site_metaDescription</th>\n",
       "      <td>HubSpot is an inbound marketing and sales plat...</td>\n",
       "    </tr>\n",
       "    <tr>\n",
       "      <th>site_phoneNumbers</th>\n",
       "      <td>+1 844-414-8020, +1 888-482-7768, +1 877-929-0...</td>\n",
       "    </tr>\n",
       "    <tr>\n",
       "      <th>site_title</th>\n",
       "      <td>HubSpot | Inbound Marketing &amp; Sales Software</td>\n",
       "    </tr>\n",
       "    <tr>\n",
       "      <th>tags</th>\n",
       "      <td>Information Technology &amp; Services, SAAS, B2B, ...</td>\n",
       "    </tr>\n",
       "    <tr>\n",
       "      <th>tech</th>\n",
       "      <td>google_tag_manager, google_analytics, hubspot,...</td>\n",
       "    </tr>\n",
       "    <tr>\n",
       "      <th>ticker</th>\n",
       "      <td>HUBS</td>\n",
       "    </tr>\n",
       "    <tr>\n",
       "      <th>timeZone</th>\n",
       "      <td>America/New_York</td>\n",
       "    </tr>\n",
       "    <tr>\n",
       "      <th>twitter_avatar</th>\n",
       "      <td>https://pbs.twimg.com/profile_images/931608729...</td>\n",
       "    </tr>\n",
       "    <tr>\n",
       "      <th>twitter_bio</th>\n",
       "      <td>HubSpot offers a full stack of products for ma...</td>\n",
       "    </tr>\n",
       "    <tr>\n",
       "      <th>twitter_followers</th>\n",
       "      <td>796936</td>\n",
       "    </tr>\n",
       "    <tr>\n",
       "      <th>twitter_following</th>\n",
       "      <td>46395</td>\n",
       "    </tr>\n",
       "    <tr>\n",
       "      <th>twitter_handle</th>\n",
       "      <td>HubSpot</td>\n",
       "    </tr>\n",
       "    <tr>\n",
       "      <th>twitter_id</th>\n",
       "      <td>14458280</td>\n",
       "    </tr>\n",
       "    <tr>\n",
       "      <th>twitter_location</th>\n",
       "      <td>Cambridge, MA</td>\n",
       "    </tr>\n",
       "    <tr>\n",
       "      <th>twitter_site</th>\n",
       "      <td>https://t.co/96xlVBgIIs</td>\n",
       "    </tr>\n",
       "    <tr>\n",
       "      <th>type</th>\n",
       "      <td>public</td>\n",
       "    </tr>\n",
       "    <tr>\n",
       "      <th>utcOffset</th>\n",
       "      <td>-5</td>\n",
       "    </tr>\n",
       "  </tbody>\n",
       "</table>\n",
       "</div>"
      ],
      "text/plain": [
       "                                                                      hubspot.com\n",
       "category_industry                                    Internet Software & Services\n",
       "category_industryGroup                                        Software & Services\n",
       "category_naicsCode                                                             56\n",
       "category_sector                                            Information Technology\n",
       "category_sicCode                                                               73\n",
       "category_subIndustry                                 Internet Software & Services\n",
       "crunchbase_handle                                            organization/hubspot\n",
       "description                     HubSpot is an inbound marketing and sales plat...\n",
       "domain                                                                hubspot.com\n",
       "domainAliases                   hubspot.net, hubspot.co, hubspot.co.uk, hubspo...\n",
       "emailProvider                                                               False\n",
       "facebook_handle                                                           hubspot\n",
       "facebook_likes                                                            1486705\n",
       "foundedYear                                                                  2006\n",
       "geo_city                                                                Cambridge\n",
       "geo_country                                                         United States\n",
       "geo_countryCode                                                                US\n",
       "geo_lat                                                                   42.3698\n",
       "geo_lng                                                                  -71.0774\n",
       "geo_postalCode                                                              02141\n",
       "geo_state                                                           Massachusetts\n",
       "geo_stateCode                                                                  MA\n",
       "geo_streetName                                                       First Street\n",
       "geo_streetNumber                                                               25\n",
       "geo_subPremise                                                               None\n",
       "id                                           54eddb27-988d-42a4-8688-59386edfc5bf\n",
       "indexedAt                                                2018-02-22T04:26:33.087Z\n",
       "legalName                                                           HubSpot, Inc.\n",
       "linkedin_handle                                                              None\n",
       "location                                    25 First St, Cambridge, MA 02141, USA\n",
       "logo                                        https://logo.clearbit.com/hubspot.com\n",
       "metrics_alexaGlobalRank                                                       562\n",
       "metrics_alexaUsRank                                                           248\n",
       "metrics_annualRevenue                                                   270967000\n",
       "metrics_employees                                                            2750\n",
       "metrics_employeesRange                                                      1000+\n",
       "metrics_estimatedAnnualRevenue                                        $250M-$500M\n",
       "metrics_fiscalYearEnd                                                        None\n",
       "metrics_googleRank                                                           None\n",
       "metrics_marketCap                                                      3770789000\n",
       "metrics_raised                                                               None\n",
       "name                                                                      HubSpot\n",
       "parent_domain                                                                None\n",
       "phone                                                             +1 857-829-5884\n",
       "similarDomains                  exacttarget.com, hootsuite.com, infusionsoft.c...\n",
       "site_emailAddresses                                           privacy@hubspot.com\n",
       "site_h1                                                          All Systems Grow\n",
       "site_metaAuthor                                                           HubSpot\n",
       "site_metaDescription            HubSpot is an inbound marketing and sales plat...\n",
       "site_phoneNumbers               +1 844-414-8020, +1 888-482-7768, +1 877-929-0...\n",
       "site_title                           HubSpot | Inbound Marketing & Sales Software\n",
       "tags                            Information Technology & Services, SAAS, B2B, ...\n",
       "tech                            google_tag_manager, google_analytics, hubspot,...\n",
       "ticker                                                                       HUBS\n",
       "timeZone                                                         America/New_York\n",
       "twitter_avatar                  https://pbs.twimg.com/profile_images/931608729...\n",
       "twitter_bio                     HubSpot offers a full stack of products for ma...\n",
       "twitter_followers                                                          796936\n",
       "twitter_following                                                           46395\n",
       "twitter_handle                                                            HubSpot\n",
       "twitter_id                                                               14458280\n",
       "twitter_location                                                    Cambridge, MA\n",
       "twitter_site                                              https://t.co/96xlVBgIIs\n",
       "type                                                                       public\n",
       "utcOffset                                                                      -5"
      ]
     },
     "metadata": {},
     "output_type": "display_data"
    }
   ],
   "source": [
    "display_all(df_company.T)"
   ]
  },
  {
   "cell_type": "markdown",
   "metadata": {},
   "source": [
    "### Step five: go through our list of companies, saving their logos and identifying each logo's primary color"
   ]
  },
  {
   "cell_type": "markdown",
   "metadata": {},
   "source": [
    "There are a few things we're going to need before we do this.\n",
    "\n",
    "A global `LOGO_SIZE` based on the image template we created earlier:"
   ]
  },
  {
   "cell_type": "code",
   "execution_count": 16,
   "metadata": {
    "collapsed": true
   },
   "outputs": [],
   "source": [
    "LOGO_SIZE = 200"
   ]
  },
  {
   "cell_type": "markdown",
   "metadata": {},
   "source": [
    "A way to get the logo as a Python Image object:"
   ]
  },
  {
   "cell_type": "code",
   "execution_count": 17,
   "metadata": {
    "collapsed": true
   },
   "outputs": [],
   "source": [
    "from PIL import Image\n",
    "from urllib import urlopen"
   ]
  },
  {
   "cell_type": "code",
   "execution_count": 18,
   "metadata": {
    "collapsed": true
   },
   "outputs": [],
   "source": [
    "def open_image_from_url(url, size=LOGO_SIZE):\n",
    "    return Image.open(urlopen(\"{}?size={}\".format(url, size)))"
   ]
  },
  {
   "cell_type": "markdown",
   "metadata": {},
   "source": [
    "A way to find the primary color in each logo:"
   ]
  },
  {
   "cell_type": "code",
   "execution_count": 19,
   "metadata": {
    "collapsed": true
   },
   "outputs": [],
   "source": [
    "import scipy, scipy.misc\n",
    "from scipy.cluster.vq import vq, kmeans"
   ]
  },
  {
   "cell_type": "code",
   "execution_count": 20,
   "metadata": {},
   "outputs": [],
   "source": [
    "def find_primary_color(img):\n",
    "    \"\"\"Takes a PIL.Image object and identifies its most common\n",
    "    color value with k-means clustering, returning that color\n",
    "    in RGB format (XXX, XXX, XXX)\"\"\"\n",
    "    \n",
    "    arr = scipy.misc.fromimage(img)    \n",
    "    shape = arr.shape\n",
    "    arr = arr.reshape(scipy.product(shape[:2]), shape[2])\n",
    "    codes, dist = kmeans(arr.astype(float), 5)\n",
    "    vecs, dist = vq(arr, codes)\n",
    "    counts, bins = scipy.histogram(vecs, len(codes))\n",
    "    index_max = scipy.argmax(counts)\n",
    "    peak = codes[index_max].astype(int)\n",
    "    return tuple(peak)"
   ]
  },
  {
   "cell_type": "markdown",
   "metadata": {},
   "source": [
    "Some utility functions for saving images to the directories we created earlier:"
   ]
  },
  {
   "cell_type": "code",
   "execution_count": 21,
   "metadata": {
    "collapsed": true
   },
   "outputs": [],
   "source": [
    "def save_logo(logo, domain, loc):\n",
    "    logo.save(loc + domain + \".png\")\n",
    "\n",
    "def save_preview(logo, background_color, domain, loc, size=LOGO_SIZE): \n",
    "    preview = Image.new(\"RGBA\", (size + 50, size + 50), background_color)\n",
    "    preview.paste(logo, (25, 25))\n",
    "    preview.save(loc + domain + \".png\")"
   ]
  },
  {
   "cell_type": "markdown",
   "metadata": {},
   "source": [
    "And doing some color code conversion:"
   ]
  },
  {
   "cell_type": "code",
   "execution_count": 22,
   "metadata": {
    "collapsed": true
   },
   "outputs": [],
   "source": [
    "def rgb_to_hex(color):\n",
    "    return \"#%02x%02x%02x\" % color\n",
    "\n",
    "def hex_to_rgb(color):\n",
    "    color = color.lstrip(\"#\")\n",
    "    return tuple(int(color[i:i + 2], 16) for i in (0, 2 ,4))"
   ]
  },
  {
   "cell_type": "markdown",
   "metadata": {},
   "source": [
    "Quick reminder about the contents of our original `domains` dataframe:"
   ]
  },
  {
   "cell_type": "code",
   "execution_count": 23,
   "metadata": {},
   "outputs": [
    {
     "data": {
      "text/html": [
       "<div>\n",
       "<style>\n",
       "    .dataframe thead tr:only-child th {\n",
       "        text-align: right;\n",
       "    }\n",
       "\n",
       "    .dataframe thead th {\n",
       "        text-align: left;\n",
       "    }\n",
       "\n",
       "    .dataframe tbody tr th {\n",
       "        vertical-align: top;\n",
       "    }\n",
       "</style>\n",
       "<table border=\"1\" class=\"dataframe\">\n",
       "  <thead>\n",
       "    <tr style=\"text-align: right;\">\n",
       "      <th></th>\n",
       "      <th>domain</th>\n",
       "    </tr>\n",
       "  </thead>\n",
       "  <tbody>\n",
       "    <tr>\n",
       "      <th>0</th>\n",
       "      <td>hubspot.com</td>\n",
       "    </tr>\n",
       "    <tr>\n",
       "      <th>1</th>\n",
       "      <td>segment.com</td>\n",
       "    </tr>\n",
       "    <tr>\n",
       "      <th>2</th>\n",
       "      <td>zendesk.com</td>\n",
       "    </tr>\n",
       "    <tr>\n",
       "      <th>3</th>\n",
       "      <td>crmcorgi.com</td>\n",
       "    </tr>\n",
       "  </tbody>\n",
       "</table>\n",
       "</div>"
      ],
      "text/plain": [
       "         domain\n",
       "0   hubspot.com\n",
       "1   segment.com\n",
       "2   zendesk.com\n",
       "3  crmcorgi.com"
      ]
     },
     "execution_count": 23,
     "metadata": {},
     "output_type": "execute_result"
    }
   ],
   "source": [
    "domains"
   ]
  },
  {
   "cell_type": "markdown",
   "metadata": {},
   "source": [
    "And here we go!"
   ]
  },
  {
   "cell_type": "code",
   "execution_count": 24,
   "metadata": {},
   "outputs": [],
   "source": [
    "def process_domains(df, domain=\"domain\"):\n",
    "    \"\"\"Iterates over a dataframe, enriching the `domain` column\n",
    "    with Clearbit's enrichment API.\n",
    "    \n",
    "    Flattens and saves the returned values to a CSV in the\n",
    "    current campaign directory.\n",
    "    \n",
    "    Saves the returned `logo` values to PNGs in directories \n",
    "    named `logos` and 'previews'.\n",
    "    \n",
    "    Returns a new dataframe in the following format:\n",
    "    domain      | use_name | use_logo | primary_color\n",
    "    ---         | ---      | ---      | ---\n",
    "    hubspot.com | HubSpot  | 1        | #f27f5b\n",
    "    ...         | ...      | ...      | ...\n",
    "    \"\"\"\n",
    "    \n",
    "    items = []\n",
    "    \n",
    "    for idx, row in df.iterrows():\n",
    "        d = {}\n",
    "        domain = row[\"domain\"]\n",
    "        \n",
    "        try: \n",
    "            company = clearbit.Company.find(domain=domain)\n",
    "        except: \n",
    "            print(\"Failed to find domain: {}\".format(domain))\n",
    "            d[\"use_name\"] = None\n",
    "            d[\"use_logo\"] = 0\n",
    "            d[\"border_color\"] = None\n",
    "            d[\"target\"] = 0\n",
    "            items.append(d)\n",
    "            continue\n",
    "        \n",
    "        d[\"use_name\"] = company[\"name\"] if company[\"name\"] else None\n",
    "        \n",
    "        try:\n",
    "            logo_image = open_image_from_url(company[\"logo\"])\n",
    "            save_logo(logo_image, domain, lg_dir)\n",
    "            try: \n",
    "                primary_color = find_primary_color(logo_image)\n",
    "                save_preview(logo_image, primary_color, domain, pr_dir)\n",
    "                d[\"use_logo\"] = 1\n",
    "                d[\"border_color\"] = rgb_to_hex(primary_color)\n",
    "            except:\n",
    "                print(\"Failed to find primary color: {}\".format(domain))\n",
    "                d[\"use_logo\"] = 0\n",
    "        except:\n",
    "            print(\"Failed to find logo: {}\".format(domain))\n",
    "            d[\"use_logo\"] = 0\n",
    "            \n",
    "        d[\"target\"] = 1\n",
    "        items.append(d)\n",
    "        \n",
    "    return pd.DataFrame(items, index=domains[\"domain\"])"
   ]
  },
  {
   "cell_type": "code",
   "execution_count": 25,
   "metadata": {
    "scrolled": false
   },
   "outputs": [
    {
     "name": "stdout",
     "output_type": "stream",
     "text": [
      "Failed to find domain: crmcorgi.com\n",
      "CPU times: user 747 ms, sys: 47.6 ms, total: 795 ms\n",
      "Wall time: 8.02 s\n"
     ]
    }
   ],
   "source": [
    "%time proc_domains = process_domains(domains)"
   ]
  },
  {
   "cell_type": "markdown",
   "metadata": {},
   "source": [
    "### Step six: human review step!"
   ]
  },
  {
   "cell_type": "markdown",
   "metadata": {},
   "source": [
    "Automation is cool and all, but sometimes we want a human to review our outputs before firing off a bunch of machine-generated emails to the people at companies we're prospecting into. This is the checklist we use:\n",
    "\n",
    "> **1. Do our saved logos look good?**\n",
    "\n",
    "> If not, replace the image in the `logos` folder or change *use_logo* to 0.\n",
    "\n",
    "> **2. Do our border/logo combinations look good?**\n",
    "\n",
    "> If not, change *border_color* to an appropriate color value or leave it blank for white.\n",
    "\n",
    "> **3. Do the company names look good?**\n",
    "\n",
    "> If not, change *use_name* to an appropriate value.\n",
    "\n",
    "> **4. Is *target* set to 0 for all accounts we don't want to target?**\n",
    "\n",
    "> If not, change *target*.\n",
    "\n",
    "> If replacing or adding an image, the new image should match the width declared in `LOGO_SIZE`. Make sure to update *border_color*.\n",
    "\n",
    "Let's go through each step."
   ]
  },
  {
   "cell_type": "markdown",
   "metadata": {},
   "source": [
    "**1. Do our saved logos look good?** "
   ]
  },
  {
   "cell_type": "code",
   "execution_count": 26,
   "metadata": {},
   "outputs": [],
   "source": [
    "%matplotlib inline"
   ]
  },
  {
   "cell_type": "code",
   "execution_count": 27,
   "metadata": {
    "collapsed": true
   },
   "outputs": [],
   "source": [
    "import matplotlib.pyplot as plt"
   ]
  },
  {
   "cell_type": "code",
   "execution_count": 28,
   "metadata": {
    "collapsed": true
   },
   "outputs": [],
   "source": [
    "def show_images(images, figsize=(9, 3), rows=1):\n",
    "    f = plt.figure(figsize=figsize)\n",
    "    for idx in range(len(images)):\n",
    "        sp = f.add_subplot(rows, len(images) // rows, idx + 1)\n",
    "        sp.axis(\"Off\")\n",
    "        plt.imshow(images[idx])"
   ]
  },
  {
   "cell_type": "code",
   "execution_count": 29,
   "metadata": {},
   "outputs": [
    {
     "data": {
      "image/png": "[encoded data removed]",
      "text/plain": [
       "<matplotlib.figure.Figure at 0x11c1ad050>"
      ]
     },
     "metadata": {},
     "output_type": "display_data"
    }
   ],
   "source": [
    "logo_domains = proc_domains[proc_domains[\"use_logo\"] == 1].index\n",
    "\n",
    "logo_images = [Image.open(lg_dir + f + \".png\") for f in logo_domains]\n",
    "show_images(logo_images)"
   ]
  },
  {
   "cell_type": "markdown",
   "metadata": {},
   "source": [
    "That looks pretty good!"
   ]
  },
  {
   "cell_type": "markdown",
   "metadata": {},
   "source": [
    "**2. Do our border/logo combinations look good?** "
   ]
  },
  {
   "cell_type": "code",
   "execution_count": 30,
   "metadata": {},
   "outputs": [
    {
     "data": {
      "image/png": "[encoded data removed]",
      "text/plain": [
       "<matplotlib.figure.Figure at 0x1200da710>"
      ]
     },
     "metadata": {},
     "output_type": "display_data"
    }
   ],
   "source": [
    "preview_images = [Image.open(pr_dir + f + \".png\") for f in logo_domains]\n",
    "show_images(preview_images)"
   ]
  },
  {
   "cell_type": "markdown",
   "metadata": {},
   "source": [
    "It looks like our `find_primary_color` function correctly identified the primary color in Segment's logo as green, but because the actual edges of the logo are white, we should set our border to white as well. We can do this by changing the value of `border_color` to \"#ffffff\", or just leaving it blank."
   ]
  },
  {
   "cell_type": "code",
   "execution_count": 31,
   "metadata": {},
   "outputs": [],
   "source": [
    "proc_domains.loc[\"segment.com\", \"border_color\"] = None"
   ]
  },
  {
   "cell_type": "markdown",
   "metadata": {},
   "source": [
    "Note that we don't have to replace the image in our preview directory. Our script will use the `border_color` values in our `proc_domains` dataframe.\n",
    "\n",
    "Finally, the HubSpot logo has a subtle gradient going on that slightly throws off our orange border - but in this case we're just going to leave it be."
   ]
  },
  {
   "cell_type": "markdown",
   "metadata": {},
   "source": [
    "**3. Do the company names look good?**\n",
    "\n",
    "**4. Is *target* set to 0 for all accounts we don't want to target?**"
   ]
  },
  {
   "cell_type": "code",
   "execution_count": 32,
   "metadata": {},
   "outputs": [
    {
     "data": {
      "text/html": [
       "<div>\n",
       "<style>\n",
       "    .dataframe thead tr:only-child th {\n",
       "        text-align: right;\n",
       "    }\n",
       "\n",
       "    .dataframe thead th {\n",
       "        text-align: left;\n",
       "    }\n",
       "\n",
       "    .dataframe tbody tr th {\n",
       "        vertical-align: top;\n",
       "    }\n",
       "</style>\n",
       "<table border=\"1\" class=\"dataframe\">\n",
       "  <thead>\n",
       "    <tr style=\"text-align: right;\">\n",
       "      <th></th>\n",
       "      <th>border_color</th>\n",
       "      <th>target</th>\n",
       "      <th>use_logo</th>\n",
       "      <th>use_name</th>\n",
       "    </tr>\n",
       "    <tr>\n",
       "      <th>domain</th>\n",
       "      <th></th>\n",
       "      <th></th>\n",
       "      <th></th>\n",
       "      <th></th>\n",
       "    </tr>\n",
       "  </thead>\n",
       "  <tbody>\n",
       "    <tr>\n",
       "      <th>hubspot.com</th>\n",
       "      <td>#f27f5b</td>\n",
       "      <td>1</td>\n",
       "      <td>1</td>\n",
       "      <td>HubSpot</td>\n",
       "    </tr>\n",
       "    <tr>\n",
       "      <th>segment.com</th>\n",
       "      <td>None</td>\n",
       "      <td>1</td>\n",
       "      <td>1</td>\n",
       "      <td>Segment</td>\n",
       "    </tr>\n",
       "    <tr>\n",
       "      <th>zendesk.com</th>\n",
       "      <td>#03363d</td>\n",
       "      <td>1</td>\n",
       "      <td>1</td>\n",
       "      <td>Zendesk</td>\n",
       "    </tr>\n",
       "    <tr>\n",
       "      <th>crmcorgi.com</th>\n",
       "      <td>None</td>\n",
       "      <td>0</td>\n",
       "      <td>0</td>\n",
       "      <td>None</td>\n",
       "    </tr>\n",
       "  </tbody>\n",
       "</table>\n",
       "</div>"
      ],
      "text/plain": [
       "             border_color  target  use_logo use_name\n",
       "domain                                              \n",
       "hubspot.com       #f27f5b       1         1  HubSpot\n",
       "segment.com          None       1         1  Segment\n",
       "zendesk.com       #03363d       1         1  Zendesk\n",
       "crmcorgi.com         None       0         0     None"
      ]
     },
     "execution_count": 32,
     "metadata": {},
     "output_type": "execute_result"
    }
   ],
   "source": [
    "proc_domains"
   ]
  },
  {
   "cell_type": "markdown",
   "metadata": {},
   "source": [
    "Our company names look good, and the only domain we don't want to target is the one we weren't able to get any information about, crmcorgi.com, which already has a `target` value of 0."
   ]
  },
  {
   "cell_type": "markdown",
   "metadata": {},
   "source": [
    "### Step seven: generate some images!"
   ]
  },
  {
   "cell_type": "markdown",
   "metadata": {},
   "source": [
    "Let's get to the reason we're all here."
   ]
  },
  {
   "cell_type": "code",
   "execution_count": 33,
   "metadata": {
    "collapsed": true
   },
   "outputs": [],
   "source": [
    "TEMPLATE_PATH = wk_dir + \"/image-scaler-demo.png\"\n",
    "FONT_PATH = \"/Users/ianchan/Library/Fonts/Graphik-Medium.otf\""
   ]
  },
  {
   "cell_type": "code",
   "execution_count": 34,
   "metadata": {
    "collapsed": true
   },
   "outputs": [],
   "source": [
    "from PIL import ImageDraw, ImageFont"
   ]
  },
  {
   "cell_type": "code",
   "execution_count": 35,
   "metadata": {},
   "outputs": [],
   "source": [
    "def generate_images(df, template_path=TEMPLATE_PATH, font_path=FONT_PATH):\n",
    "    font = ImageFont.truetype(font_path, 15)\n",
    "    \n",
    "    for idx, row in df.iterrows():\n",
    "        domain = idx\n",
    "        \n",
    "        if row[\"target\"] != 1:\n",
    "            print(\"Skipped domain: {}\".format(domain))\n",
    "            continue\n",
    "            \n",
    "        name = row[\"use_name\"]\n",
    "        bg = Image.open(template_path)\n",
    "        draw = ImageDraw.Draw(bg)\n",
    "        \n",
    "        draw.text((10, 44), \"at {}\".format(name), font=font)\n",
    "\n",
    "        if row[\"use_logo\"] == 1:\n",
    "            border_color = hex_to_rgb(row[\"border_color\"]) if row[\"border_color\"] else (254, 254, 254)\n",
    "            border_box = [(54, 148), (54 + 80, 148 + 80)]\n",
    "            draw.ellipse(border_box, fill=border_color)\n",
    "            \n",
    "            logo_size = 58\n",
    "            logo = Image.open(lg_dir + domain + \".png\")\n",
    "            logo = logo.resize((logo_size, logo_size))\n",
    "            bg_width, bg_height = bg.size\n",
    "            bg_offset_center = (bg_width / 2 - (logo_size / 2), 160)\n",
    "            bg.paste(logo, bg_offset_center) \n",
    "\n",
    "        bg.save(im_dir + domain + \".png\")"
   ]
  },
  {
   "cell_type": "code",
   "execution_count": 36,
   "metadata": {},
   "outputs": [
    {
     "name": "stdout",
     "output_type": "stream",
     "text": [
      "Skipped domain: crmcorgi.com\n",
      "CPU times: user 108 ms, sys: 4.16 ms, total: 112 ms\n",
      "Wall time: 148 ms\n"
     ]
    }
   ],
   "source": [
    "%time generate_images(proc_domains)"
   ]
  },
  {
   "cell_type": "markdown",
   "metadata": {},
   "source": [
    "And our results:"
   ]
  },
  {
   "cell_type": "code",
   "execution_count": 37,
   "metadata": {},
   "outputs": [
    {
     "data": {
      "image/png": "[encoded data removed]",
      "text/plain": [
       "<matplotlib.figure.Figure at 0x120118fd0>"
      ]
     },
     "metadata": {},
     "output_type": "display_data"
    }
   ],
   "source": [
    "final_images = [Image.open(im_dir + f + \".png\") for f in logo_domains]\n",
    "show_images(final_images, figsize=(12, 12))"
   ]
  }
 ],
 "metadata": {
  "kernelspec": {
   "display_name": "Python 2",
   "language": "python",
   "name": "python2"
  },
  "language_info": {
   "codemirror_mode": {
    "name": "ipython",
    "version": 2
   },
   "file_extension": ".py",
   "mimetype": "text/x-python",
   "name": "python",
   "nbconvert_exporter": "python",
   "pygments_lexer": "ipython2",
   "version": "2.7.14"
  }
 },
 "nbformat": 4,
 "nbformat_minor": 2
}
